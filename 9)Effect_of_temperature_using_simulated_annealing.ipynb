import math
import random
import matplotlib.pyplot as plt

# Define the objective function (e.g., a simple quadratic function)
def objective_function(x):
    return x**2 - 10*x + 25  # This is a parabola with a minimum at x = 5

# Simulated Annealing algorithm
def simulated_annealing(initial_state, initial_temp, cooling_rate, iterations):
    current_state = initial_state
    current_value = objective_function(current_state)
    states = [current_state]
    values = [current_value]

    for i in range(iterations):
        temperature = initial_temp * (cooling_rate ** i)  # Temperature schedule
        new_state = current_state + random.uniform(-1, 1)  # Random move
        new_value = objective_function(new_state)

        # Accept the new state with some probability
        if new_value < current_value:
            current_state = new_state
            current_value = new_value
        else:
            probability = math.exp((current_value - new_value) / temperature)
            if random.random() < probability:
                current_state = new_state
                current_value = new_value

        states.append(current_state)
        values.append(current_value)

    return states, values

# Parameters for the simulated annealing
initial_state = 0  # Initial guess
initial_temp = 100  # Starting temperature
cooling_rate = 0.99  # Cooling rate (temperature decay)
iterations = 100  # Number of iterations

# Run the simulated annealing
states, values = simulated_annealing(initial_state, initial_temp, cooling_rate, iterations)

# Plot the results
plt.plot(states, values)
plt.xlabel("State (x)")
plt.ylabel("Objective Value")
plt.title("Simulated Annealing: Effect of Temperature on Inferior Node Selection")
plt.show()

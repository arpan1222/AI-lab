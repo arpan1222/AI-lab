import random

class ModelBasedVacuumCleaner:
    def __init__(self, room_size=(3, 3)):
        self.room_size = room_size
        # Initialize the room as a grid with random 0 (clean) and 1 (dirty) cells
        self.grid = [[random.choice([0, 1]) for _ in range(room_size[1])] for _ in range(room_size[0])]
        # Start the agent at a random position
        self.current_position = (random.randint(0, room_size[0] - 1), random.randint(0, room_size[1] - 1))
        # Internal model of the room (same as the grid initially)
        self.model = [[self.grid[i][j] for j in range(room_size[1])] for i in range(room_size[0])]

    def display_room(self):
        # Display the current status of the room
        for i, row in enumerate(self.grid):
            for j, cell in enumerate(row):
                if (i, j) == self.current_position:
                    print("A", end=" ")  # Represent the agent's position
                else:
                    print(str(cell), end=" ")
            print()
        print()

    def clean_current_position(self):
        # Clean the current position in both the room and the model
        x, y = self.current_position
        if self.grid[x][y] == 1:
            print(f"Cleaning position {self.current_position}")
            self.grid[x][y] = 0
            self.model[x][y] = 0
        else:
            print(f"Position {self.current_position} is already clean.")

    def find_nearest_dirty_cell(self):
        # Find the nearest dirty cell using the internal model
        x, y = self.current_position
        min_distance = float('inf')
        nearest_dirty = None

        for i in range(self.room_size[0]):
            for j in range(self.room_size[1]):
                if self.model[i][j] == 1:  # Check the model for dirty cells
                    distance = abs(x - i) + abs(y - j)  # Manhattan distance
                    if distance < min_distance:
                        min_distance = distance
                        nearest_dirty = (i, j)

        return nearest_dirty

    def move_to(self, target):
        # Move one step closer to the target dirty cell
        cx, cy = self.current_position
        tx, ty = target

        if cx < tx:
            cx += 1
        elif cx > tx:
            cx -= 1
        elif cy < ty:
            cy += 1
        elif cy > ty:
            cy -= 1

        self.current_position = (cx, cy)
        print(f"Moved to position {self.current_position}")

    def run(self):
        print("Initial Room Status:")
        self.display_room()

        steps = 0
        while any(1 in row for row in self.grid):  # Check if there are dirty cells left
            print(f"Step {steps + 1}:")
            self.clean_current_position()

            nearest_dirty = self.find_nearest_dirty_cell()
            if nearest_dirty:
                self.move_to(nearest_dirty)

            steps += 1
            self.display_room()

        print(f"Room cleaned in {steps} steps!")

# Create and run the Model-Based Vacuum Cleaner
agent = ModelBasedVacuumCleaner(room_size=(3, 3))
agent.run()

import random

# Helper function to find the index of the empty tile (0)
def find_empty_tile(state):
    for i in range(3):
        for j in range(3):
            if state[i][j] == 0:
                return i, j

# Helper function to generate new states from the current state
def generate_neighbors(state):
    neighbors = []
    i, j = find_empty_tile(state)
    moves = [(-1, 0), (1, 0), (0, -1), (0, 1)]  # Up, Down, Left, Right

    for di, dj in moves:
        ni, nj = i + di, j + dj
        if 0 <= ni < 3 and 0 <= nj < 3:
            new_state = [row[:] for row in state]
            # Swap the empty tile with the neighboring tile
            new_state[i][j], new_state[ni][nj] = new_state[ni][nj], new_state[i][j]
            neighbors.append(new_state)
    return neighbors

# Heuristic function: Manhattan Distance
def manhattan_distance(state_flat, goal_flat):
    distance = 0
    for idx, value in enumerate(state_flat):
        if value != 0:
            goal_idx = goal_flat.index(value)
            distance += abs(idx // 3 - goal_idx // 3) + abs(idx % 3 - goal_idx % 3)
    return distance

# Print the current state of the puzzle
def print_state(state):
    for row in state:
        print(' '.join(map(str, row)))
    print("-" * 10)

# Steepest Ascent Hill Climbing Algorithm
def steepest_ascent_hill_climbing(start, goal):
    goal_flat = [item for row in goal for item in row]
    current_state = start
    current_heuristic = manhattan_distance(
        [item for row in current_state for item in row], goal_flat
    )
    steps = 0

    print("Initial State:")
    print_state(current_state)

    while True:
        neighbors = generate_neighbors(current_state)
        best_neighbor = None
        best_heuristic = float('inf')

        # Evaluate each neighbor to find the steepest ascent
        for neighbor in neighbors:
            neighbor_flat = [item for row in neighbor for item in row]
            h = manhattan_distance(neighbor_flat, goal_flat)
            if h < best_heuristic:
                best_heuristic = h
                best_neighbor = neighbor

        # If no improvement, stop the algorithm
        if best_heuristic >= current_heuristic:
            break

        # Move to the best neighbor
        current_state = best_neighbor
        current_heuristic = best_heuristic
        steps += 1

        print(f"Step {steps}:")
        print_state(current_state)

        # Check if goal is reached
        if current_heuristic == 0:
            print("Goal state reached!")
            return steps

    print("No better neighbors found. Stopping search.")
    return steps

# Example Usage
start_state = [
    [1, 2, 3],
    [0, 4, 6],
    [7, 5, 8]
]

goal_state = [
    [1, 2, 3],
    [4, 5, 6],
    [7, 8, 0]
]

steps = steepest_ascent_hill_climbing(start_state, goal_state)

print(f"Total steps taken: {steps}")

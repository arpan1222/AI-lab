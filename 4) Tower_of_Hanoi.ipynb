class TowerOfHanoi:
    def __init__(self, n):
        self.n = n  # Number of disks

    def solve_hanoi(self, n, source, target, auxiliary):
        if n == 1:
            print(f"Move disk 1 from {source} to {target}")
            return

        # Move n-1 disks from source to auxiliary, using target as auxiliary
        self.solve_hanoi(n - 1, source, auxiliary, target)

        # Move the nth disk from source to target
        print(f"Move disk {n} from {source} to {target}")

        # Move the n-1 disks from auxiliary to target, using source as auxiliary
        self.solve_hanoi(n - 1, auxiliary, target, source)

    def solve(self):
        self.solve_hanoi(self.n, 'A', 'C', 'B')

# Example usage
n = int(input("Enter the number of disks for the Tower of Hanoi: "))
th = TowerOfHanoi(n)
th.solve()

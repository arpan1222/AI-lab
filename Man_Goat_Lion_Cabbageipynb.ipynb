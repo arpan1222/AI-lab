{
  "nbformat": 4,
  "nbformat_minor": 0,
  "metadata": {
    "colab": {
      "provenance": []
    },
    "kernelspec": {
      "name": "python3",
      "display_name": "Python 3"
    },
    "language_info": {
      "name": "python"
    }
  },
  "cells": [
    {
      "cell_type": "code",
      "execution_count": 3,
      "metadata": {
        "colab": {
          "base_uri": "https://localhost:8080/"
        },
        "id": "jE6fvTqeKpHx",
        "outputId": "a99a4e18-885b-42fe-a3ba-c9ee10e11cba"
      },
      "outputs": [
        {
          "output_type": "stream",
          "name": "stdout",
          "text": [
            "Solution steps:\n",
            "{'man': 0, 'goat': 0, 'lion': 0, 'cabbage': 0}\n",
            "{'man': 1, 'goat': 1, 'lion': 0, 'cabbage': 0}\n",
            "{'man': 0, 'goat': 1, 'lion': 0, 'cabbage': 0}\n",
            "{'man': 1, 'goat': 1, 'lion': 1, 'cabbage': 0}\n",
            "{'man': 0, 'goat': 0, 'lion': 1, 'cabbage': 0}\n",
            "{'man': 1, 'goat': 0, 'lion': 1, 'cabbage': 1}\n",
            "{'man': 0, 'goat': 0, 'lion': 1, 'cabbage': 1}\n",
            "{'man': 1, 'goat': 1, 'lion': 1, 'cabbage': 1}\n"
          ]
        }
      ],
      "source": [
        "# Define the initial positions (0 means starting side, 1 means opposite side)\n",
        "start = {\"man\": 0, \"goat\": 0, \"lion\": 0, \"cabbage\": 0}\n",
        "end = {\"man\": 1, \"goat\": 1, \"lion\": 1, \"cabbage\": 1}\n",
        "\n",
        "# Function to check if a given state is valid\n",
        "def is_valid(state):\n",
        "    \"\"\"\n",
        "    Check if the current state is valid based on the constraints:\n",
        "    - Goat cannot be left alone with the lion.\n",
        "    - Goat cannot be left alone with the cabbage.\n",
        "    \"\"\"\n",
        "    # Check if goat is left with lion without the man\n",
        "    if (state[\"goat\"] == state[\"lion\"] and state[\"man\"] != state[\"goat\"]):\n",
        "        return False\n",
        "    # Check if goat is left with cabbage without the man\n",
        "    if (state[\"goat\"] == state[\"cabbage\"] and state[\"man\"] != state[\"goat\"]):\n",
        "        return False\n",
        "    return True\n",
        "\n",
        "# Function to perform the move\n",
        "def move(state, item):\n",
        "    \"\"\"\n",
        "    Moves the man and optionally the specified item to the other side.\n",
        "    \"\"\"\n",
        "    new_state = state.copy()\n",
        "    # Move the man\n",
        "    new_state[\"man\"] = 1 - state[\"man\"]\n",
        "    # Move the specified item (if any)\n",
        "    if item:\n",
        "        new_state[item] = 1 - state[item]\n",
        "    return new_state\n",
        "\n",
        "# BFS function to solve the puzzle\n",
        "def solve_puzzle():\n",
        "    \"\"\"\n",
        "    Solves the puzzle using BFS to find the shortest path.\n",
        "    \"\"\"\n",
        "    queue = [(start, [])]  # Queue of (current_state, path)\n",
        "    visited = set()        # Track visited states to avoid loops\n",
        "\n",
        "    while queue:\n",
        "        current_state, path = queue.pop(0)\n",
        "\n",
        "        # If the current state matches the goal, return the solution path\n",
        "        if current_state == end:\n",
        "            return path + [current_state]\n",
        "\n",
        "        # Skip already visited states\n",
        "        state_tuple = tuple(current_state.items())\n",
        "        if state_tuple in visited:\n",
        "            continue\n",
        "        visited.add(state_tuple)\n",
        "\n",
        "        # Generate possible moves\n",
        "        for item in [None, \"goat\", \"lion\", \"cabbage\"]:\n",
        "            # Only consider moving items that are on the same side as the man\n",
        "            if item is None or current_state[\"man\"] == current_state[item]:\n",
        "                next_state = move(current_state, item)\n",
        "                # Add the new state to the queue if it's valid\n",
        "                if is_valid(next_state):\n",
        "                    queue.append((next_state, path + [current_state]))\n",
        "\n",
        "# Solve the puzzle\n",
        "solution = solve_puzzle()\n",
        "\n",
        "# Print the solution steps\n",
        "print(\"Solution steps:\")\n",
        "for step in solution:\n",
        "    print(step)\n",
        "\n"
      ]
    }
  ]
}
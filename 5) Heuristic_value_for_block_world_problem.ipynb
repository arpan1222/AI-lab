def calculate_heuristic(start_state, goal_state):

  """
  Calculates the heuristic value for the Blocks World problem.

  Args:
  start_state (list): A list of blocks from top to bottom in the start state.
  goal_state (list): A list of blocks from top to bottom in the goal state.

  Returns:
  int: The heuristic value of the state.
  """
  heuristic = 0
  n = len(start_state)
  for i in range(n):
    if start_state[i:] == goal_state[i:]:
      heuristic += 1
      break # Remaining structure is correct
    else:
        heuristic -= 1
  return heuristic

# Example: Define the start and goal states
start_state = ["A", "D", "C", "B"] # Top to bottom
goal_state = ["A", "B", "C", "D"] # Top to bottom

# Calculate and print the heuristic value
heuristic_value = calculate_heuristic(start_state, goal_state)
print(f"Heuristic Value: {heuristic_value}")

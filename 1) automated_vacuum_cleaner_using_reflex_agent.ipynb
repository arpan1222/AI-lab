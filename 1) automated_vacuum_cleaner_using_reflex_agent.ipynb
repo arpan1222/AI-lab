import random

class RoomCleanerAgent:
    def __init__(self, room_size=(2, 2)):
        self.room_size = room_size
        # Initialize the room as a grid with random 0 (clean) and 1 (dirty) cells
        self.grid = [[random.choice([0, 1]) for _ in range(room_size[1])] for _ in range(room_size[0])]
        # Initialize the agent's position randomly
        self.current_position = (random.randint(0, room_size[0] - 1), random.randint(0, room_size[1] - 1))

    def display_room(self):
        # Display current status of the room grid with the agent's position
        for i, row in enumerate(self.grid):
            for j, cell in enumerate(row):
                if (i, j) == self.current_position:
                    print("A", end=" ")  # Represent the agent with 'A'
                else:
                    print(str(cell), end=" ")
            print()
        print()

    def is_clean(self):
        # Check if all cells in the room are clean
        return all(cell == 0 for row in self.grid for cell in row)

    def clean_current_position(self):
        # Clean the current position
        x, y = self.current_position
        if self.grid[x][y] == 1:
            print(f"Cleaning position {self.current_position}")
            self.grid[x][y] = 0
        else:
            print(f"Position {self.current_position} is already clean.")

    def move(self):
        # Move the agent to a random valid neighboring cell
        x, y = self.current_position
        possible_moves = [
            (x - 1, y),  # Up
            (x + 1, y),  # Down
            (x, y - 1),  # Left
            (x, y + 1)   # Right
        ]
        # Filter out moves that go outside the room boundaries
        valid_moves = [(nx, ny) for nx, ny in possible_moves if 0 <= nx < self.room_size[0] and 0 <= ny < self.room_size[1]]
        if valid_moves:
            self.current_position = random.choice(valid_moves)

    def run(self):
        # Display initial status of the room
        print("Initial Room Status:")
        self.display_room()

        # Run the cleaning process until the room is clean
        steps = 0
        while not self.is_clean():
            print(f"Step {steps + 1}:")
            self.clean_current_position()  # Clean the current position
            self.display_room()  # Display the room after cleaning
            self.move()  # Move to the next position
            steps += 1

        print(f"Room cleaned in {steps} steps!")

# Create and run the Room Cleaner Agent
agent = RoomCleanerAgent()
agent.run()

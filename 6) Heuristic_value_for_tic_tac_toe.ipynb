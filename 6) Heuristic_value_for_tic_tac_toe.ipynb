def calculate_heuristic(board, player, opponent):
    """
    Calculates the heuristic value of a Tic-Tac-Toe board state.

    Args:
        board (list of list): 3x3 Tic-Tac-Toe board.
        player (str): The symbol for the current player (e.g., 'X').
        opponent (str): The symbol for the opponent (e.g., 'O').

    Returns:
        int: The heuristic value of the board.
    """
    def count_open_lines(board, symbol):
        open_lines = 0

        # Check rows
        for row in board:
            if all(cell == symbol or cell == '' for cell in row):
                open_lines += 1

        # Check columns
        for col in range(3):
            if all(board[row][col] == symbol or board[row][col] == '' for row in range(3)):
                open_lines += 1

        # Check diagonals
        if all(board[i][i] == symbol or board[i][i] == '' for i in range(3)):
            open_lines += 1
        if all(board[i][2 - i] == symbol or board[i][2 - i] == '' for i in range(3)):
            open_lines += 1

        return open_lines

    player_lines = count_open_lines(board, player)
    opponent_lines = count_open_lines(board, opponent)

    return player_lines - opponent_lines


# Example Usage
board = [
    ['X', '', ''],
    ['', '', ''],
    ['', '', '']
]

player = 'X'
opponent = 'O'

heuristic_value = calculate_heuristic(board, player, opponent)
print("Heuristic Value:", heuristic_value)
